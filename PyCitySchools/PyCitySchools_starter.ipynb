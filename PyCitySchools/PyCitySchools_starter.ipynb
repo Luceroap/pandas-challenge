{
 "cells": [
  {
   "cell_type": "markdown",
   "metadata": {},
   "source": [
    "### Note\n",
    "* Instructions have been included for each segment. You do not have to follow them exactly, but they are included to help you think through the steps."
   ]
  },
  {
   "cell_type": "code",
   "execution_count": 6,
   "metadata": {},
   "outputs": [],
   "source": [
    "# Dependencies and Setup\n",
    "import pandas as pd\n",
    "import numpy as np\n",
    "import os\n",
    "\n",
    "# File to Load (Remember to Change These)\n",
    "school_data_to_load = \"Resources/schools_complete.csv\"\n",
    "student_data_to_load = \"Resources/students_complete.csv\"\n",
    "\n",
    "# Read School and Student Data File and store into Pandas DataFrames\n",
    "school_data = pd.read_csv(school_data_to_load)\n",
    "student_data = pd.read_csv(student_data_to_load)\n",
    "\n",
    "# Combine the data into a single dataset.  \n",
    "school_data_complete = pd.merge(student_data, school_data, how=\"left\", on=[\"school_name\", \"school_name\"])"
   ]
  },
  {
   "cell_type": "markdown",
   "metadata": {},
   "source": [
    "## District Summary\n",
    "\n",
    "* Calculate the total number of schools\n",
    "\n",
    "* Calculate the total number of students\n",
    "\n",
    "* Calculate the total budget\n",
    "\n",
    "* Calculate the average math score \n",
    "\n",
    "* Calculate the average reading score\n",
    "\n",
    "* Calculate the percentage of students with a passing math score (70 or greater)\n",
    "\n",
    "* Calculate the percentage of students with a passing reading score (70 or greater)\n",
    "\n",
    "* Calculate the percentage of students who passed math **and** reading (% Overall Passing)\n",
    "\n",
    "* Create a dataframe to hold the above results\n",
    "\n",
    "* Optional: give the displayed data cleaner formatting"
   ]
  },
  {
   "cell_type": "code",
   "execution_count": 7,
   "metadata": {},
   "outputs": [
    {
     "output_type": "stream",
     "name": "stdout",
     "text": [
      "Num of students: 39170\nBudget total: 24649428\nAvg Reading School: 81.87784018381414\nAvg Math School: 78.98537145774827\nMath passing Rate: 74.9808526933878\nReading passing Rate: 85.80546336482001\nOverall passing Rate: 80.3931580291039\n"
     ]
    }
   ],
   "source": [
    "#total number of students\n",
    "num_of_students = school_data[\"size\"].sum()\n",
    "\n",
    "print(\"Num of students: \" + str(num_of_students))\n",
    "\n",
    "#total budget\n",
    "total_budget = school_data[\"budget\"].sum()\n",
    "\n",
    "print(\"Budget total: \" + str(total_budget))\n",
    "\n",
    "#reading math score\n",
    "avg_reading = student_data[\"reading_score\"].sum()/num_of_students \n",
    "\n",
    "print(\"Avg Reading School: \" + str(avg_reading))\n",
    "\n",
    "#Average math score\n",
    "avg_math = student_data[\"math_score\"].sum()/num_of_students \n",
    "\n",
    "print(\"Avg Math School: \" + str(avg_math))\n",
    "\n",
    "#% of Students who passed math \n",
    "passing_math = student_data.loc[student_data[\"math_score\"] >= 70][\"math_score\"].count()\n",
    "\n",
    "print(\"Math passing Rate: \" + str(passing_math/num_of_students * 100))\n",
    "\n",
    "#% of Students who passed reading \n",
    "passing_reading = student_data.loc[student_data[\"reading_score\"] >= 70][\"reading_score\"].count()\n",
    "\n",
    "print(\"Reading passing Rate: \" + str(passing_reading/num_of_students * 100))\n",
    "\n",
    "#Overall passing Rate\n",
    "\n",
    "print(\"Overall passing Rate: \" + str(((passing_reading + passing_math)/2) / num_of_students * 100))\n",
    "#((pasing_reading/num_of_students * 100) + (pasing_math/num_of_students * 100)) / 2"
   ]
  },
  {
   "cell_type": "markdown",
   "metadata": {},
   "source": [
    "## School Summary"
   ]
  },
  {
   "cell_type": "markdown",
   "metadata": {},
   "source": [
    "* Create an overview table that summarizes key metrics about each school, including:\n",
    "  * School Name\n",
    "  * School Type\n",
    "  * Total Students\n",
    "  * Total School Budget\n",
    "  * Per Student Budget\n",
    "  * Average Math Score\n",
    "  * Average Reading Score\n",
    "  * % Passing Math\n",
    "  * % Passing Reading\n",
    "  * % Overall Passing (The percentage of students that passed math **and** reading.)\n",
    "  \n",
    "* Create a dataframe to hold the above results"
   ]
  },
  {
   "cell_type": "code",
   "execution_count": 10,
   "metadata": {},
   "outputs": [
    {
     "output_type": "stream",
     "name": "stdout",
     "text": [
      "              school_name      type  size   budget  Per Student Budget  \\\n0       Huang High School  District  2917  1910635               655.0   \n1    Figueroa High School  District  2949  1884411               639.0   \n2     Shelton High School   Charter  1761  1056600               600.0   \n3   Hernandez High School  District  4635  3022020               652.0   \n4     Griffin High School   Charter  1468   917500               625.0   \n5      Wilson High School   Charter  2283  1319574               578.0   \n6     Cabrera High School   Charter  1858  1081356               582.0   \n7      Bailey High School  District  4976  3124928               628.0   \n8      Holden High School   Charter   427   248087               581.0   \n9        Pena High School   Charter   962   585858               609.0   \n10     Wright High School   Charter  1800  1049400               583.0   \n11  Rodriguez High School  District  3999  2547363               637.0   \n12    Johnson High School  District  4761  3094650               650.0   \n13       Ford High School  District  2739  1763916               644.0   \n14     Thomas High School   Charter  1635  1043130               638.0   \n\n    avg reading score  avg math score  % Math Passing  % Reading Passing  \\\n0           81.182722       76.629414        0.656839           0.813164   \n1           81.158020       76.711767        0.659885           0.807392   \n2           83.725724       83.359455        0.938671           0.958546   \n3           80.934412       77.289752        0.667530           0.808630   \n4           83.816757       83.351499        0.933924           0.971390   \n5           83.989488       83.274201        0.938677           0.965396   \n6           83.975780       83.061895        0.941335           0.970398   \n7           81.033963       77.048432        0.666801           0.819333   \n8           83.814988       83.803279        0.925059           0.962529   \n9           84.044699       83.839917        0.945946           0.959459   \n10          83.955000       83.682222        0.933333           0.966111   \n11          80.744686       76.842711        0.663666           0.802201   \n12          80.966394       77.072464        0.660576           0.812224   \n13          80.746258       77.102592        0.683096           0.792990   \n14          83.848930       83.418349        0.932722           0.973089   \n\n    Overall Passing Rate  \n0               0.735002  \n1               0.733639  \n2               0.948609  \n3               0.738080  \n4               0.952657  \n5               0.952037  \n6               0.955867  \n7               0.743067  \n8               0.943794  \n9               0.952703  \n10              0.949722  \n11              0.732933  \n12              0.736400  \n13              0.738043  \n14              0.952905  \n"
     ]
    }
   ],
   "source": [
    "school_sum = school_data[[\"school_name\",\"type\",\"size\", \"budget\"]]\n",
    "#print(school_sum)\n",
    "\n",
    "#getting the per student budget\n",
    "#initalized \n",
    "school_sum[\"Per Student Budget\"] = school_sum[\"budget\"] / school_sum[\"size\"]\n",
    "\n",
    "#print(school_sum)\n",
    "\n",
    "#avg reading scores\n",
    "temp_reading_scores = student_data.groupby(['school_name'])[\"reading_score\"].mean().reset_index()\n",
    "#print(temp_reading_scores)\n",
    "pd.merge(student_data, school_data, how=\"left\", on=[\"school_name\", \"school_name\"])\n",
    "\n",
    "school_sum = pd.merge(school_sum,temp_reading_scores, how=\"left\",on=[\"school_name\", \"school_name\"])\n",
    "school_sum.rename(columns={\"reading_score\":\"avg reading score\"}, inplace=True)\n",
    "\n",
    "#print(school_sum)\n",
    "\n",
    "#TODO: avg math scores\n",
    "\n",
    "passing_math = student_data.groupby(['school_name'])[\"math_score\"].mean().reset_index()\n",
    "#print(passing_math)\n",
    "pd.merge(student_data, school_data, how=\"left\", on=[\"school_name\", \"school_name\"])\n",
    "\n",
    "school_sum = pd.merge(school_sum,passing_math, how=\"left\",on=[\"school_name\", \"school_name\"])\n",
    "school_sum.rename(columns={\"math_score\":\"avg math score\"}, inplace=True)\n",
    "#print(school_sum)\n",
    "\n",
    "\n",
    "\n",
    "\n",
    "#% of passing math scores\n",
    "sum_passing_math = student_data[student_data[\"math_score\"] >=70]\n",
    "\n",
    "count_passing_math = sum_passing_math.groupby([\"school_name\"])[\"math_score\"].count().reset_index()\n",
    "\n",
    "school_sum = pd.merge(school_sum,count_passing_math, how=\"left\",on=[\"school_name\", \"school_name\"])\n",
    "\n",
    "school_sum[\"math_score\"] = school_sum[\"math_score\"]/school_sum[\"size\"]\n",
    "school_sum.rename(columns={\"math_score\":\"% Math Passing\"}, inplace=True)\n",
    "#print(school_sum)\n",
    "\n",
    "#TODO: % of passing reading scores\n",
    "\n",
    "sum_passing_reading = student_data[student_data[\"reading_score\"] >=70]\n",
    "\n",
    "count_passing_reading = sum_passing_reading.groupby([\"school_name\"])[\"reading_score\"].count().reset_index()\n",
    "\n",
    "school_sum = pd.merge(school_sum,count_passing_reading, how=\"left\",on=[\"school_name\", \"school_name\"])\n",
    "\n",
    "school_sum[\"reading_score\"] = school_sum[\"reading_score\"]/school_sum[\"size\"]\n",
    "school_sum.rename(columns={\"reading_score\":\"% Reading Passing\"}, inplace=True)\n",
    "#print(school_sum)\n",
    "\n",
    "\n",
    "\n",
    "\n",
    "\n",
    "\n",
    "#Overall passing Rate\n",
    "school_sum[\"Overall Passing Rate\"] = (school_sum[\"% Math Passing\"] + school_sum[\"% Reading Passing\"])/2\n",
    "print(school_sum)"
   ]
  },
  {
   "cell_type": "markdown",
   "metadata": {},
   "source": [
    "## Top Performing Schools (By % Overall Passing)"
   ]
  },
  {
   "cell_type": "markdown",
   "metadata": {},
   "source": [
    "* Sort and display the top five performing schools by % overall passing."
   ]
  },
  {
   "cell_type": "code",
   "execution_count": 11,
   "metadata": {
    "scrolled": true
   },
   "outputs": [
    {
     "output_type": "stream",
     "name": "stdout",
     "text": [
      "            school_name     type  size   budget  Per Student Budget  \\\n6   Cabrera High School  Charter  1858  1081356               582.0   \n14   Thomas High School  Charter  1635  1043130               638.0   \n9      Pena High School  Charter   962   585858               609.0   \n4   Griffin High School  Charter  1468   917500               625.0   \n5    Wilson High School  Charter  2283  1319574               578.0   \n\n    avg reading score  avg math score  % Math Passing  % Reading Passing  \\\n6           83.975780       83.061895        0.941335           0.970398   \n14          83.848930       83.418349        0.932722           0.973089   \n9           84.044699       83.839917        0.945946           0.959459   \n4           83.816757       83.351499        0.933924           0.971390   \n5           83.989488       83.274201        0.938677           0.965396   \n\n    Overall Passing Rate  \n6               0.955867  \n14              0.952905  \n9               0.952703  \n4               0.952657  \n5               0.952037  \n"
     ]
    }
   ],
   "source": [
    "Top_schools = school_sum.sort_values(by=[\"Overall Passing Rate\"],ascending = False).head(5)\n",
    "\n",
    "print(Top_schools)\n"
   ]
  },
  {
   "cell_type": "markdown",
   "metadata": {},
   "source": [
    "## Bottom Performing Schools (By % Overall Passing)"
   ]
  },
  {
   "cell_type": "markdown",
   "metadata": {},
   "source": [
    "* Sort and display the five worst-performing schools by % overall passing."
   ]
  },
  {
   "cell_type": "code",
   "execution_count": 12,
   "metadata": {},
   "outputs": [
    {
     "output_type": "stream",
     "name": "stdout",
     "text": [
      "              school_name      type  size   budget  Per Student Budget  \\\n11  Rodriguez High School  District  3999  2547363               637.0   \n1    Figueroa High School  District  2949  1884411               639.0   \n0       Huang High School  District  2917  1910635               655.0   \n12    Johnson High School  District  4761  3094650               650.0   \n13       Ford High School  District  2739  1763916               644.0   \n\n    avg reading score  avg math score  % Math Passing  % Reading Passing  \\\n11          80.744686       76.842711        0.663666           0.802201   \n1           81.158020       76.711767        0.659885           0.807392   \n0           81.182722       76.629414        0.656839           0.813164   \n12          80.966394       77.072464        0.660576           0.812224   \n13          80.746258       77.102592        0.683096           0.792990   \n\n    Overall Passing Rate  \n11              0.732933  \n1               0.733639  \n0               0.735002  \n12              0.736400  \n13              0.738043  \n"
     ]
    }
   ],
   "source": [
    "Bottom_schools = school_sum.sort_values(by=[\"Overall Passing Rate\"],ascending = True).head(5)\n",
    "\n",
    "print(Bottom_schools)\n"
   ]
  },
  {
   "cell_type": "markdown",
   "metadata": {
    "collapsed": true
   },
   "source": [
    "## Math Scores by Grade"
   ]
  },
  {
   "cell_type": "markdown",
   "metadata": {},
   "source": [
    "* Create a table that lists the average Reading Score for students of each grade level (9th, 10th, 11th, 12th) at each school.\n",
    "\n",
    "  * Create a pandas series for each grade. Hint: use a conditional statement.\n",
    "  \n",
    "  * Group each series by school\n",
    "  \n",
    "  * Combine the series into a dataframe\n",
    "  \n",
    "  * Optional: give the displayed data cleaner formatting"
   ]
  },
  {
   "cell_type": "code",
   "execution_count": 13,
   "metadata": {},
   "outputs": [
    {
     "output_type": "stream",
     "name": "stdout",
     "text": [
      "                      math_score                                 \ngrade                       10th       11th       12th        9th\nschool_name                                                      \nBailey High School     76.996772  77.515588  76.492218  77.083676\nCabrera High School    83.154506  82.765560  83.277487  83.094697\nFigueroa High School   76.539974  76.884344  77.151369  76.403037\nFord High School       77.672316  76.918058  76.179963  77.361345\nGriffin High School    84.229064  83.842105  83.356164  82.044010\nHernandez High School  77.337408  77.136029  77.186567  77.438495\nHolden High School     83.429825  85.000000  82.855422  83.787402\nHuang High School      75.908735  76.446602  77.225641  77.027251\nJohnson High School    76.691117  77.491653  76.863248  77.187857\nPena High School       83.372000  84.328125  84.121547  83.625455\nRodriguez High School  76.612500  76.395626  77.690748  76.859966\nShelton High School    82.917411  83.383495  83.778976  83.420755\nThomas High School     83.087886  83.498795  83.497041  83.590022\nWilson High School     83.724422  83.195326  83.035794  83.085578\nWright High School     84.010288  83.836782  83.644986  83.264706\n"
     ]
    }
   ],
   "source": [
    "math_scores_grade = pd.pivot_table(student_data, values=[\"math_score\"], index=[\"school_name\"], columns=['grade'])\n",
    "\n",
    "print(math_scores_grade)\n"
   ]
  },
  {
   "cell_type": "markdown",
   "metadata": {},
   "source": [
    "## Reading Score by Grade "
   ]
  },
  {
   "cell_type": "markdown",
   "metadata": {},
   "source": [
    "* Perform the same operations as above for reading scores"
   ]
  },
  {
   "cell_type": "code",
   "execution_count": 14,
   "metadata": {},
   "outputs": [
    {
     "output_type": "stream",
     "name": "stdout",
     "text": [
      "                      reading_score                                 \ngrade                          10th       11th       12th        9th\nschool_name                                                         \nBailey High School        80.907183  80.945643  80.912451  81.303155\nCabrera High School       84.253219  83.788382  84.287958  83.676136\nFigueroa High School      81.408912  80.640339  81.384863  81.198598\nFord High School          81.262712  80.403642  80.662338  80.632653\nGriffin High School       83.706897  84.288089  84.013699  83.369193\nHernandez High School     80.660147  81.396140  80.857143  80.866860\nHolden High School        83.324561  83.815534  84.698795  83.677165\nHuang High School         81.512386  81.417476  80.305983  81.290284\nJohnson High School       80.773431  80.616027  81.227564  81.260714\nPena High School          83.612000  84.335938  84.591160  83.807273\nRodriguez High School     80.629808  80.864811  80.376426  80.993127\nShelton High School       83.441964  84.373786  82.781671  84.122642\nThomas High School        84.254157  83.585542  83.831361  83.728850\nWilson High School        84.021452  83.764608  84.317673  83.939778\nWright High School        83.812757  84.156322  84.073171  83.833333\n"
     ]
    }
   ],
   "source": [
    "reading_scores_grade = pd.pivot_table(student_data, values=[\"reading_score\"], index=[\"school_name\"], columns=['grade'])\n",
    "\n",
    "print(reading_scores_grade)\n"
   ]
  },
  {
   "cell_type": "markdown",
   "metadata": {},
   "source": [
    "## Scores by School Spending"
   ]
  },
  {
   "cell_type": "markdown",
   "metadata": {},
   "source": [
    "* Create a table that breaks down school performances based on average Spending Ranges (Per Student). Use 4 reasonable bins to group school spending. Include in the table each of the following:\n",
    "  * Average Math Score\n",
    "  * Average Reading Score\n",
    "  * % Passing Math\n",
    "  * % Passing Reading\n",
    "  * Overall Passing Rate (Average of the above two)"
   ]
  },
  {
   "cell_type": "code",
   "execution_count": 15,
   "metadata": {},
   "outputs": [
    {
     "output_type": "stream",
     "name": "stdout",
     "text": [
      "[655. 639. 600. 652. 625. 578. 582. 628. 581. 609. 583. 637. 650. 644.\n 638.]\n                avg math score  avg reading score  % Math Passing  \\\nRange Spending                                                      \n0-588                83.455399          83.933814        0.934601   \n588-608              83.359455          83.725724        0.938671   \n608-628              81.413283          82.965140        0.848890   \n629+                 77.866721          81.368774        0.703473   \n\n                % Reading Passing  Overall Passing Rate  \nRange Spending                                           \n0-588                    0.966109              0.950355  \n588-608                  0.958546              0.948609  \n608-628                  0.916727              0.882809  \n629+                     0.829956              0.766714  \n                avg math score  avg reading score  % Math Passing  \\\nRange Spending                                                      \n0-588                83.455399          83.933814        0.934601   \n588-608              83.359455          83.725724        0.938671   \n608-628              81.413283          82.965140        0.848890   \n629+                 77.866721          81.368774        0.703473   \n\n                % Reading Passing  Overall Passing Rate  \nRange Spending                                           \n0-588                    0.966109              0.950355  \n588-608                  0.958546              0.948609  \n608-628                  0.916727              0.882809  \n629+                     0.829956              0.766714  \n"
     ]
    }
   ],
   "source": [
    "print(school_sum['Per Student Budget'].unique())\n",
    "\n",
    "spending_bins = [\"0-588\", \"588-608\",\"608-628\", \"629+\"]\n",
    "int_bins = [0,588,608,628,656]\n",
    "\n",
    "bin_df = pd.DataFrame(pd.cut(school_sum[\"Per Student Budget\"], int_bins,labels=spending_bins ))\n",
    "\n",
    "school_sum[\"Range Spending\"] = bin_df\n",
    "\n",
    "# print(school_sum)\n",
    "\n",
    "bin_spending_sum = school_sum.groupby([\"Range Spending\"])[['avg math score','avg reading score',\"% Math Passing\",\"% Reading Passing\",\"Overall Passing Rate\" ]].mean()\n",
    "\n",
    "print(bin_spending_sum)\n",
    "\n",
    "\n",
    "print(bin_spending_sum)"
   ]
  },
  {
   "cell_type": "markdown",
   "metadata": {},
   "source": [
    "## Scores by School Size"
   ]
  },
  {
   "cell_type": "markdown",
   "metadata": {},
   "source": [
    "* Perform the same operations as above, based on school size."
   ]
  },
  {
   "cell_type": "code",
   "execution_count": 22,
   "metadata": {
    "scrolled": true
   },
   "outputs": [
    {
     "data": {
      "text/html": [
       "<div>\n",
       "<style scoped>\n",
       "    .dataframe tbody tr th:only-of-type {\n",
       "        vertical-align: middle;\n",
       "    }\n",
       "\n",
       "    .dataframe tbody tr th {\n",
       "        vertical-align: top;\n",
       "    }\n",
       "\n",
       "    .dataframe thead th {\n",
       "        text-align: right;\n",
       "    }\n",
       "</style>\n",
       "<table border=\"1\" class=\"dataframe\">\n",
       "  <thead>\n",
       "    <tr style=\"text-align: right;\">\n",
       "      <th></th>\n",
       "      <th>Average Math Score</th>\n",
       "      <th>Average Reading Score</th>\n",
       "      <th>% Passing Math</th>\n",
       "      <th>% Passing Reading</th>\n",
       "      <th>% Overall Passing</th>\n",
       "    </tr>\n",
       "    <tr>\n",
       "      <th>School Size</th>\n",
       "      <th></th>\n",
       "      <th></th>\n",
       "      <th></th>\n",
       "      <th></th>\n",
       "      <th></th>\n",
       "    </tr>\n",
       "  </thead>\n",
       "  <tbody>\n",
       "    <tr>\n",
       "      <th>Small (&lt;1000)</th>\n",
       "      <td>83.821598</td>\n",
       "      <td>83.929843</td>\n",
       "      <td>93.550225</td>\n",
       "      <td>96.099437</td>\n",
       "      <td>89.883853</td>\n",
       "    </tr>\n",
       "    <tr>\n",
       "      <th>Medium (1000-2000)</th>\n",
       "      <td>83.374684</td>\n",
       "      <td>83.864438</td>\n",
       "      <td>93.599695</td>\n",
       "      <td>96.790680</td>\n",
       "      <td>90.621535</td>\n",
       "    </tr>\n",
       "    <tr>\n",
       "      <th>Large (2000-5000)</th>\n",
       "      <td>77.746417</td>\n",
       "      <td>81.344493</td>\n",
       "      <td>69.963361</td>\n",
       "      <td>82.766634</td>\n",
       "      <td>58.286003</td>\n",
       "    </tr>\n",
       "  </tbody>\n",
       "</table>\n",
       "</div>"
      ],
      "text/plain": [
       "                    Average Math Score  Average Reading Score  % Passing Math  \\\n",
       "School Size                                                                     \n",
       "Small (<1000)                83.821598              83.929843       93.550225   \n",
       "Medium (1000-2000)           83.374684              83.864438       93.599695   \n",
       "Large (2000-5000)            77.746417              81.344493       69.963361   \n",
       "\n",
       "                    % Passing Reading  % Overall Passing  \n",
       "School Size                                               \n",
       "Small (<1000)               96.099437          89.883853  \n",
       "Medium (1000-2000)          96.790680          90.621535  \n",
       "Large (2000-5000)           82.766634          58.286003  "
      ]
     },
     "execution_count": 22,
     "metadata": {},
     "output_type": "execute_result"
    }
   ],
   "source": [
    "print(school_sum['size'].unique())\n",
    "\n",
    "spending_bins = [\"Small(0-1500)\", \"Medium(1501-3000)\", \"Large(3000+)\"]\n",
    "int_bins = [0,1500,3000,5000]\n",
    "\n",
    "bin_df = pd.DataFrame(pd.cut(school_sum[\"size\"], int_bins,labels=spending_bins ))\n",
    "\n",
    "school_sum[\"Range Size\"] = bin_df\n",
    "\n",
    "# print(school_sum)\n",
    "\n",
    "bin_spending_sum = school_sum.groupby([\"Range Size\"])[['avg math score','avg reading score' ,\"% Math Passing\",\"% Reading Passing\",\"Overall Passing Rate\"] ].mean()\n",
    "\n",
    "print(bin_spending_sum)"
   ]
  },
  {
   "cell_type": "markdown",
   "metadata": {},
   "source": [
    "## Scores by School Type"
   ]
  },
  {
   "cell_type": "markdown",
   "metadata": {},
   "source": [
    "* Perform the same operations as above, based on school type"
   ]
  },
  {
   "cell_type": "code",
   "execution_count": 16,
   "metadata": {},
   "outputs": [
    {
     "output_type": "stream",
     "name": "stdout",
     "text": [
      "          avg math score  avg reading score  % Math Passing  \\\ntype                                                          \nCharter        83.473852          83.896421        0.936208   \nDistrict       76.956733          80.966636        0.665485   \n\n          % Reading Passing  Overall Passing Rate  \ntype                                               \nCharter            0.965865              0.951037  \nDistrict           0.807991              0.736738  \n"
     ]
    }
   ],
   "source": [
    "# print(school_sum['type'].unique())\n",
    "type_sum = school_sum.groupby([\"type\"])[['avg math score','avg reading score',\"% Math Passing\",\"% Reading Passing\",\"Overall Passing Rate\" ]].mean()\n",
    "\n",
    "print(type_sum)\n"
   ]
  },
  {
   "cell_type": "code",
   "execution_count": null,
   "metadata": {},
   "outputs": [],
   "source": []
  }
 ],
 "metadata": {
  "anaconda-cloud": {},
  "kernel_info": {
   "name": "python3"
  },
  "kernelspec": {
   "name": "python3610jvsc74a57bd0f1a332ba46dd188da723af48cf43ed64bcc5970235cd045fb21461f31c8e71d8",
   "display_name": "Python 3.6.10 64-bit ('PythonData': conda)"
  },
  "language_info": {
   "codemirror_mode": {
    "name": "ipython",
    "version": 3
   },
   "file_extension": ".py",
   "mimetype": "text/x-python",
   "name": "python",
   "nbconvert_exporter": "python",
   "pygments_lexer": "ipython3",
   "version": "3.6.10"
  },
  "latex_envs": {
   "LaTeX_envs_menu_present": true,
   "autoclose": false,
   "autocomplete": true,
   "bibliofile": "biblio.bib",
   "cite_by": "apalike",
   "current_citInitial": 1,
   "eqLabelWithNumbers": true,
   "eqNumInitial": 1,
   "hotkeys": {
    "equation": "Ctrl-E",
    "itemize": "Ctrl-I"
   },
   "labels_anchors": false,
   "latex_user_defs": false,
   "report_style_numbering": false,
   "user_envs_cfg": false
  },
  "nteract": {
   "version": "0.8.4"
  }
 },
 "nbformat": 4,
 "nbformat_minor": 1
}